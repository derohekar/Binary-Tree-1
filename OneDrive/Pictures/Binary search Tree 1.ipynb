{
 "cells": [
  {
   "cell_type": "code",
   "execution_count": null,
   "id": "f51d8589",
   "metadata": {},
   "outputs": [],
   "source": [
    "class BinarytreeNode:\n",
    "    def __init__(self, data):\n",
    "        self.data = data\n",
    "        self.left = None\n",
    "        self.right = None"
   ]
  },
  {
   "cell_type": "code",
   "execution_count": null,
   "id": "0469e1ad",
   "metadata": {},
   "outputs": [],
   "source": [
    "def printtreeBetter(root):\n",
    "    if root == None:\n",
    "        return\n",
    "    print(root.data, end=\":\")\n",
    "    if root.left != None:\n",
    "        print(\"L -\",root.left.data, end=\", \")\n",
    "    if root.right != None:\n",
    "        print(\"R -\",root.right.data, end=\" \")\n",
    "    print()                                   # ----> to seperate Line\n",
    "    printtreeBetter(root.left)\n",
    "    printtreeBetter(root.right)"
   ]
  },
  {
   "cell_type": "code",
   "execution_count": null,
   "id": "44db5a38",
   "metadata": {},
   "outputs": [],
   "source": [
    "def treeinput():\n",
    "    rootdata = int(input())\n",
    "    if rootdata == -1:\n",
    "        return\n",
    "    root = BinarytreeNode(rootdata)\n",
    "    root.left = treeinput()\n",
    "    root.right = treeinput()\n",
    "    return root"
   ]
  },
  {
   "cell_type": "code",
   "execution_count": null,
   "id": "88f4f1f2",
   "metadata": {},
   "outputs": [],
   "source": [
    "# 1.Search Node in Binary Search Tree\n",
    "\n",
    "def searchinBST(root, x):\n",
    "    if root == None:\n",
    "        return False\n",
    "    if root.data == x:\n",
    "        return True\n",
    "    elif root.data > x:\n",
    "        return searchinBST(root.left, x)\n",
    "    else:\n",
    "        return searchinBST(root.right, x)"
   ]
  },
  {
   "cell_type": "code",
   "execution_count": null,
   "id": "a5a25693",
   "metadata": {},
   "outputs": [],
   "source": [
    "# 2.Print Elements between K1 and K2\n",
    "\n",
    "def printbetweenk1k2(root, k1, k2):\n",
    "    if root == None:\n",
    "        return\n",
    "    if root.data > k2:\n",
    "        printbetweenk1k2(root.left, k1, k2)\n",
    "        \n",
    "    if root.data < k1:\n",
    "        printbetweenk1k2(root.right, k1, k2)\n",
    "        \n",
    "    elif root.data <=k2 and root.data >= k1:              # -----> watch this condition carefully\n",
    "        printbetweenk1k2(root.left, k1, k2)\n",
    "        print(root.data)\n",
    "        printbetweenk1k2(root.right, k1, k2)"
   ]
  },
  {
   "cell_type": "code",
   "execution_count": null,
   "id": "07d4cd46",
   "metadata": {},
   "outputs": [],
   "source": [
    "# 3.Construct Bst from sorted Array\n",
    "\n",
    "import queue\n",
    "class BinaryTreeNode:\n",
    "    def __init__(self, data):\n",
    "        self.data = data\n",
    "        self.left = None\n",
    "        self.right = None\n",
    "\n",
    "def constructBST(nums):\n",
    "    if not nums:\n",
    "        return \n",
    "    mid_val = (len(nums)-1)//2\n",
    "    node = BinaryTreeNode(nums[mid_val])\n",
    "    node.left = constructBST(nums[:mid_val])\n",
    "    node.right = constructBST(nums[mid_val+1:])\n",
    "    return node\n",
    "\n",
    "\n",
    "def preOrder(root):\n",
    "    # Given a binary tree, print the preorder traversal of given tree. Pre-order\n",
    "    # traversal is: Root LeftChild RightChild\n",
    "    if root==None:\n",
    "        return\n",
    "    print(root.data, end=' ')\n",
    "    preOrder(root.left)\n",
    "    preOrder(root.right)\n",
    "\n",
    "# Main\n",
    "n=int(input())\n",
    "if(n>0):\n",
    "    lst=[int(i) for i in input().strip().split()]\n",
    "else:\n",
    "    lst=[]\n",
    "root=constructBST(lst)\n",
    "preOrder(root)"
   ]
  },
  {
   "cell_type": "code",
   "execution_count": null,
   "id": "38b80e8b",
   "metadata": {},
   "outputs": [],
   "source": [
    "# 4.Check whether Tree is Bst or Not ---> Supportive function\n",
    "\n",
    "def mintree(root):\n",
    "    if root == None:\n",
    "        return 1000000\n",
    "    leftmin= mintree(root.left)\n",
    "    rightmin = mintree(root.right)\n",
    "    return min(leftmin, rightmin , root.data)"
   ]
  },
  {
   "cell_type": "code",
   "execution_count": null,
   "id": "5b21e81b",
   "metadata": {},
   "outputs": [],
   "source": [
    "# 4.Check whether Tree is Bst or Not  ----> Supportive Function\n",
    "\n",
    "def maxtree(root):\n",
    "    if root == None:\n",
    "        return -1000000\n",
    "    leftmax= maxtree(root.left)\n",
    "    rightmax = maxtree(root.right)\n",
    "    return max(leftmax, rightmax , root.data)"
   ]
  },
  {
   "cell_type": "code",
   "execution_count": null,
   "id": "6b811bd5",
   "metadata": {},
   "outputs": [],
   "source": [
    "# 4.Check whether Tree is Bst or Not  ------> Main Function  O(n^2)\n",
    "\n",
    "def isBST(root):\n",
    "    if root == None:\n",
    "        return True\n",
    "    leftmax = maxtree(root.left)\n",
    "    rightmin = mintree(root.right)\n",
    "    if root.data > rightmin and root.data <= leftmax:\n",
    "        return False\n",
    "    isleftBST = isBST(root.left)\n",
    "    isrightBSt = isBST(root.right)\n",
    "    \n",
    "    return  isleftBST and isrightBSt\n",
    "    "
   ]
  },
  {
   "cell_type": "code",
   "execution_count": null,
   "id": "dd95da67",
   "metadata": {},
   "outputs": [],
   "source": [
    "# 5.Check whether Tree is Bst or Not  ------> Main Function  O(n)\n",
    "\n",
    "def isBST2(root):\n",
    "    if root == None:\n",
    "        return 1000000, -1000000, True\n",
    "    leftmin, leftmax, isleftBSt = isBST2(root.left)\n",
    "    rightmin, rightmax, isrightBSt = isBST2(root.right)\n",
    "    \n",
    "    minimum = min(leftmin, rightmin, root.data)\n",
    "    maximum = max(leftmax, rightmax, root.data)\n",
    "    \n",
    "    isTreeBst = True\n",
    "    if root.data <= leftmax and root.data >rightmin:\n",
    "        isTreeBst = False\n",
    "    if not (isleftBSt) or not(isrightBSt):\n",
    "        isTreeBst = False\n",
    "    return minimum, maximum, isTreeBst"
   ]
  },
  {
   "cell_type": "code",
   "execution_count": null,
   "id": "7f494e56",
   "metadata": {},
   "outputs": [],
   "source": [
    "# 6. Check whether Tree is Bst or Not ----- Different Approach\n",
    "\n",
    "def isBST3(root, min_range, max_range):\n",
    "    if root == None:\n",
    "        return True\n",
    "    if (root.data < min_range) or (root.data > max_range):\n",
    "        return False\n",
    "    \n",
    "    isleftwithinconstraints = isBST3(root, min_range, root.data - 1) \n",
    "    isrightwithinconstainsts = isBST3(root,root.data, max_range)\n",
    "    \n",
    "    return isleftwithinconstraints and isrightwithinconstainsts"
   ]
  }
 ],
 "metadata": {
  "kernelspec": {
   "display_name": "Python 3 (ipykernel)",
   "language": "python",
   "name": "python3"
  },
  "language_info": {
   "codemirror_mode": {
    "name": "ipython",
    "version": 3
   },
   "file_extension": ".py",
   "mimetype": "text/x-python",
   "name": "python",
   "nbconvert_exporter": "python",
   "pygments_lexer": "ipython3",
   "version": "3.10.7"
  }
 },
 "nbformat": 4,
 "nbformat_minor": 5
}
