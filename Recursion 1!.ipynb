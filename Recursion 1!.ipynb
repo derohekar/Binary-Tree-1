{
 "cells": [
  {
   "cell_type": "code",
   "execution_count": 3,
   "id": "dd2d0d06",
   "metadata": {},
   "outputs": [],
   "source": [
    "# factorial of N number\n",
    "\n",
    "def fact(n):\n",
    "    if n == 0:\n",
    "        return 1\n",
    "    smallout = n * fact(n-1)\n",
    "    return smallout\n"
   ]
  },
  {
   "cell_type": "code",
   "execution_count": 4,
   "id": "7f5c2589",
   "metadata": {},
   "outputs": [
    {
     "data": {
      "text/plain": [
       "120"
      ]
     },
     "execution_count": 4,
     "metadata": {},
     "output_type": "execute_result"
    }
   ],
   "source": [
    "fact(5)"
   ]
  },
  {
   "cell_type": "code",
   "execution_count": 13,
   "id": "7c3ec909",
   "metadata": {},
   "outputs": [],
   "source": [
    "# Sum of N numbers\n",
    "\n",
    "def Sum_n(n):\n",
    "    if n == 0:\n",
    "        return 0\n",
    "    smalloutput = n + Sum_n(n-1)\n",
    "    return smalloutput\n"
   ]
  },
  {
   "cell_type": "code",
   "execution_count": 14,
   "id": "e7cd5925",
   "metadata": {},
   "outputs": [
    {
     "data": {
      "text/plain": [
       "15"
      ]
     },
     "execution_count": 14,
     "metadata": {},
     "output_type": "execute_result"
    }
   ],
   "source": [
    "Sum_n(5)\n"
   ]
  },
  {
   "cell_type": "code",
   "execution_count": 20,
   "id": "a004fc1b",
   "metadata": {},
   "outputs": [],
   "source": [
    "# Find 1 to N numbers\n",
    "\n",
    "def _1_to_n(n):\n",
    "    if n == 0:\n",
    "        return 0\n",
    "    print(_1_to_n(n-1), end=\"\")\n",
    "    print(n, end=\"\")\n",
    "    return"
   ]
  },
  {
   "cell_type": "code",
   "execution_count": 21,
   "id": "ab2bf15e",
   "metadata": {},
   "outputs": [
    {
     "name": "stdout",
     "output_type": "stream",
     "text": [
      "01None2None3None4None5None6None7None8None9None10"
     ]
    }
   ],
   "source": [
    "_1_to_n(10)"
   ]
  },
  {
   "cell_type": "code",
   "execution_count": null,
   "id": "6751529c",
   "metadata": {},
   "outputs": [],
   "source": [
    "# Find 1 to N numbers\n",
    "\n",
    "def _n_to_1(n):\n",
    "    if n == 0:\n",
    "        return 0\n",
    "    print(n)\n",
    "    print(_n_to_1(n-1))\n",
    "    \n",
    "    return"
   ]
  },
  {
   "cell_type": "code",
   "execution_count": 22,
   "id": "0d7aa023",
   "metadata": {},
   "outputs": [],
   "source": [
    "# Fibonaaci Series\n",
    "\n",
    "def fib(n):\n",
    "    if n == 1 or n== 2:\n",
    "        return 1\n",
    "    fib_n_1 = fib(n-1)\n",
    "    fib_n_2 = fib(n-2)\n",
    "    return fib_n_1 + fib_n_2\n"
   ]
  },
  {
   "cell_type": "code",
   "execution_count": 23,
   "id": "e5e7c3b4",
   "metadata": {},
   "outputs": [
    {
     "data": {
      "text/plain": [
       "5"
      ]
     },
     "execution_count": 23,
     "metadata": {},
     "output_type": "execute_result"
    }
   ],
   "source": [
    "fib(5)\n"
   ]
  },
  {
   "cell_type": "code",
   "execution_count": 25,
   "id": "445a4135",
   "metadata": {},
   "outputs": [],
   "source": [
    "# Check list is sorted or not\n",
    "\n",
    "def Is_list_sorted(a):\n",
    "    l = len(a)\n",
    "    if l == 0 or l == 1:\n",
    "        return True\n",
    "    if a[0] > a[1]:\n",
    "        return False\n",
    "    smalloutput = Is_list_sorted(a[1:])\n",
    "    return smalloutput\n"
   ]
  },
  {
   "cell_type": "code",
   "execution_count": 27,
   "id": "86faeea2",
   "metadata": {},
   "outputs": [
    {
     "data": {
      "text/plain": [
       "False"
      ]
     },
     "execution_count": 27,
     "metadata": {},
     "output_type": "execute_result"
    }
   ],
   "source": [
    "a = [1, 2, 40, 4, 5]\n",
    "Is_list_sorted(a)\n"
   ]
  },
  {
   "cell_type": "code",
   "execution_count": 28,
   "id": "8d1ac34e",
   "metadata": {},
   "outputs": [],
   "source": [
    "# Check list is sorted or not ----> Starting Index Method\n",
    "\n",
    "def Is_list_sorted(a, si):\n",
    "    l = len(a)\n",
    "    if si == l -1 or si == l:\n",
    "        return True\n",
    "    if a[si] > a[si + 1]:\n",
    "        return False\n",
    "    smalloutput = Is_list_sorted(a, si+1)\n",
    "    return smalloutput\n"
   ]
  },
  {
   "cell_type": "code",
   "execution_count": 31,
   "id": "1a9da608",
   "metadata": {},
   "outputs": [
    {
     "data": {
      "text/plain": [
       "False"
      ]
     },
     "execution_count": 31,
     "metadata": {},
     "output_type": "execute_result"
    }
   ],
   "source": [
    "a = [1, 2, 40, 4, 5]\n",
    "Is_list_sorted(a, 0)\n"
   ]
  },
  {
   "cell_type": "code",
   "execution_count": 32,
   "id": "844fbf87",
   "metadata": {},
   "outputs": [],
   "source": [
    "# First Index of a number\n",
    "\n",
    "def first_index(a, x):\n",
    "    l = len(a)\n",
    "    if l == 0:\n",
    "        return -1\n",
    "    if a[0] == x:\n",
    "        return 0\n",
    "    smalloutput = first_index(a[1: ], x)\n",
    "    \n",
    "    if smalloutput == -1:\n",
    "        return -1\n",
    "    else:\n",
    "        return smalloutput + 1\n",
    "    "
   ]
  },
  {
   "cell_type": "code",
   "execution_count": 34,
   "id": "453668df",
   "metadata": {},
   "outputs": [
    {
     "data": {
      "text/plain": [
       "1"
      ]
     },
     "execution_count": 34,
     "metadata": {},
     "output_type": "execute_result"
    }
   ],
   "source": [
    "a = [1, 2, 40, 4, 5]\n",
    "first_index(a, 2)"
   ]
  },
  {
   "cell_type": "code",
   "execution_count": null,
   "id": "85a1c629",
   "metadata": {},
   "outputs": [],
   "source": []
  },
  {
   "cell_type": "code",
   "execution_count": 39,
   "id": "bb23a2c7",
   "metadata": {},
   "outputs": [],
   "source": [
    "# First Index of a number\n",
    "\n",
    "def first_index_si(a, x, si):\n",
    "    l = len(a)\n",
    "    if si == l:\n",
    "        return -1\n",
    "    if a[si] == x:\n",
    "        return si\n",
    "    smalloutput = first_index_si(a, x, si+1)\n",
    "    return smalloutput"
   ]
  },
  {
   "cell_type": "code",
   "execution_count": 42,
   "id": "0e691f8f",
   "metadata": {},
   "outputs": [
    {
     "data": {
      "text/plain": [
       "4"
      ]
     },
     "execution_count": 42,
     "metadata": {},
     "output_type": "execute_result"
    }
   ],
   "source": [
    "a = [1, 2, 3, 45, 21, 32, 87, 10, 65]\n",
    "first_index_si(a, 21, 0)\n"
   ]
  },
  {
   "cell_type": "code",
   "execution_count": 43,
   "id": "00e29ba3",
   "metadata": {},
   "outputs": [],
   "source": [
    "# Last index of number\n",
    "\n",
    "def last_index(a, x):\n",
    "    l = len(a)\n",
    "    \n",
    "    if l == 0:\n",
    "        return -1\n",
    "    smalloutput = last_index(a[1: ], x)\n",
    "    \n",
    "    if smalloutput != -1:\n",
    "        return smalloutput + 1\n",
    "    else:\n",
    "        if a[0] == x:\n",
    "            return 0\n",
    "        else:\n",
    "            return -1\n",
    "        "
   ]
  },
  {
   "cell_type": "code",
   "execution_count": 44,
   "id": "0101cf0e",
   "metadata": {},
   "outputs": [
    {
     "data": {
      "text/plain": [
       "3"
      ]
     },
     "execution_count": 44,
     "metadata": {},
     "output_type": "execute_result"
    }
   ],
   "source": [
    "a = [1, 4, 5, 4, 8]\n",
    "last_index(a, 4)\n"
   ]
  },
  {
   "cell_type": "code",
   "execution_count": 45,
   "id": "978bd587",
   "metadata": {},
   "outputs": [],
   "source": [
    "# Last index of number -------> startimg index method\n",
    "\n",
    "def last_index_si(a, x, si):\n",
    "    l = len(a)\n",
    "    if si == l:\n",
    "        return -1\n",
    "    \n",
    "    smalloutput = last_index_si(a, x, si+1)\n",
    "    if smalloutput != -1:\n",
    "        return smalloutput\n",
    "    else:\n",
    "        if a[si] == x:\n",
    "            return si\n",
    "        else:\n",
    "            return -1\n",
    "        \n",
    "    "
   ]
  },
  {
   "cell_type": "code",
   "execution_count": 46,
   "id": "1cce4bbf",
   "metadata": {},
   "outputs": [
    {
     "data": {
      "text/plain": [
       "3"
      ]
     },
     "execution_count": 46,
     "metadata": {},
     "output_type": "execute_result"
    }
   ],
   "source": [
    "a = [1, 4, 5, 4, 8]\n",
    "last_index_si(a, 4, 0)\n"
   ]
  },
  {
   "cell_type": "code",
   "execution_count": null,
   "id": "68670768",
   "metadata": {},
   "outputs": [],
   "source": []
  }
 ],
 "metadata": {
  "kernelspec": {
   "display_name": "Python 3 (ipykernel)",
   "language": "python",
   "name": "python3"
  },
  "language_info": {
   "codemirror_mode": {
    "name": "ipython",
    "version": 3
   },
   "file_extension": ".py",
   "mimetype": "text/x-python",
   "name": "python",
   "nbconvert_exporter": "python",
   "pygments_lexer": "ipython3",
   "version": "3.10.7"
  }
 },
 "nbformat": 4,
 "nbformat_minor": 5
}
