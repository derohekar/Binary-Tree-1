{
 "cells": [
  {
   "cell_type": "code",
   "execution_count": 1,
   "id": "5e376761",
   "metadata": {},
   "outputs": [
    {
     "name": "stdout",
     "output_type": "stream",
     "text": [
      "\"hjfilofjowfwx\n",
      "\"hjfilofjowfw\n"
     ]
    }
   ],
   "source": [
    "# Problem: Remove x from string\n",
    "\n",
    "\n",
    "def removeX(string, x): \n",
    "    l = len(string)\n",
    "    if l == 0:\n",
    "        return string\n",
    "    \n",
    "    smalloutput = removeX(string[1:],x)\n",
    "    if string[0] == x:\n",
    "        return smalloutput\n",
    "    \n",
    "    else:\n",
    "        return string[0] + smalloutput\n",
    "    \n",
    "    pass\n",
    "\n",
    "# Main\n",
    "string = input()\n",
    "print(removeX(string,'x'))\n"
   ]
  },
  {
   "cell_type": "code",
   "execution_count": 2,
   "id": "e944c978",
   "metadata": {},
   "outputs": [],
   "source": [
    "# Replace pi by 3.14\n",
    "\n",
    "def replacepi(s):\n",
    "    if len(s) == 0 or len(s) == 1:\n",
    "        return s\n",
    "    \n",
    "    if s[0] == \"p\" and s[1] == \"i\":\n",
    "        smalloutput = replacepi(s[2:])\n",
    "        return \"3.14\" + smalloutput\n",
    "    else:\n",
    "        smalloutput = replacepi(s[1:])\n",
    "        return s[0] + smalloutput\n",
    "    "
   ]
  },
  {
   "cell_type": "code",
   "execution_count": 3,
   "id": "1856168c",
   "metadata": {},
   "outputs": [
    {
     "data": {
      "text/plain": [
       "'hdhsi3.14dfhfhv3.14'"
      ]
     },
     "execution_count": 3,
     "metadata": {},
     "output_type": "execute_result"
    }
   ],
   "source": [
    "replacepi('hdhsipidfhfhvpi')"
   ]
  },
  {
   "cell_type": "code",
   "execution_count": 4,
   "id": "b0fbe7a8",
   "metadata": {},
   "outputs": [
    {
     "name": "stdout",
     "output_type": "stream",
     "text": [
      "hhffhaffhofi\n",
      "hahofi\n"
     ]
    }
   ],
   "source": [
    "# Problem ID 91, removeConsecutiveDuplicates  \n",
    "# correct solution\n",
    "\n",
    "def removeConsecutiveDuplicates(string):\n",
    "    if len(string) == 0 or len(string) == 1:\n",
    "        return string\n",
    "    if string[0] == string [1]:\n",
    "        \n",
    "        smalloutput = removeConsecutiveDuplicates(string[2:])\n",
    "        return smalloutput\n",
    "    else:\n",
    "        smalloutput = removeConsecutiveDuplicates(string[1:])\n",
    "        return string[0] + smalloutput\n",
    "    \n",
    "   \n",
    "        \n",
    "    \n",
    "    \n",
    "    # Please add your code here\n",
    "    pass\n",
    "\n",
    "# Main\n",
    "string = input().strip()\n",
    "print(removeConsecutiveDuplicates(string))"
   ]
  },
  {
   "cell_type": "code",
   "execution_count": 1,
   "id": "3d412240",
   "metadata": {},
   "outputs": [],
   "source": [
    "# Mergesort\n",
    "\n",
    "def merge(a1, a2, a):    \n",
    "    i = 0\n",
    "    j = 0\n",
    "    k = 0\n",
    "    \n",
    "    while i < len(a1) and j < len(a2):\n",
    "        if (a1[i] < a2[j]):\n",
    "            a[k] = a1[i]\n",
    "            k = k + 1\n",
    "            i = i + 1\n",
    "        else:\n",
    "            a[k] = a2[j]\n",
    "            k = k + 1\n",
    "            j = j + 1\n",
    "            \n",
    "    while i < len(a1):\n",
    "        a[k] = a1[i]\n",
    "        k = k+1\n",
    "        i = i+1\n",
    "        \n",
    "    while j < len(a2):\n",
    "        a[k] = a2[j]\n",
    "        k = k+1\n",
    "        j = j+1\n",
    "        \n",
    "        \n",
    "        \n",
    "        \n",
    "            \n",
    "    # Please add your code here\n",
    "    pass\n",
    "def merge_sort(a):\n",
    "    if len(a) == 0 or len(a) == 1:\n",
    "        return a\n",
    "    \n",
    "    mid = len(a) // 2\n",
    "    \n",
    "    a1 = a[0:mid]\n",
    "    a2 = a[mid:]\n",
    "    \n",
    "    merge_sort(a1)\n",
    "    merge_sort(a2)\n",
    "    \n",
    "    merge(a1, a2, a)\n",
    "    "
   ]
  },
  {
   "cell_type": "code",
   "execution_count": 3,
   "id": "0ce74e02",
   "metadata": {},
   "outputs": [
    {
     "name": "stdout",
     "output_type": "stream",
     "text": [
      "[1, 3, 4, 5, 7, 9, 10]\n"
     ]
    }
   ],
   "source": [
    "a = [10, 5, 3, 1, 7,9, 4]\n",
    "merge_sort(a)\n",
    "print(a)\n"
   ]
  },
  {
   "cell_type": "code",
   "execution_count": 4,
   "id": "91458764",
   "metadata": {},
   "outputs": [],
   "source": [
    "def binarysearch(a, x, si, ei):\n",
    "    if si > ei:\n",
    "        return -1\n",
    "    \n",
    "    mid = (si + ei) // 2\n",
    "    \n",
    "    if a[mid] == x:\n",
    "        return mid\n",
    "    elif a[mid] > x:\n",
    "        return binarysearch(a, x, si, mid -1) \n",
    "    else:\n",
    "        return binarysearch(a, x, mid + 1 ,ei)"
   ]
  },
  {
   "cell_type": "code",
   "execution_count": 5,
   "id": "457dd147",
   "metadata": {},
   "outputs": [
    {
     "data": {
      "text/plain": [
       "6"
      ]
     },
     "execution_count": 5,
     "metadata": {},
     "output_type": "execute_result"
    }
   ],
   "source": [
    "a = [1, 2, 5, 9, 14, 16, 17, 18, 20, 54, 58, 59]\n",
    "binarysearch(a, 17, 0, 11)\n"
   ]
  },
  {
   "cell_type": "code",
   "execution_count": 6,
   "id": "cc454d62",
   "metadata": {},
   "outputs": [],
   "source": [
    "# Tower of hanoi\n",
    "\n",
    "def tower_hanoi(s, a, b, c):\n",
    "    if (s) == 1:\n",
    "        print('move 1st disk from', a, 'to', c)\n",
    "        return\n",
    "    tower_hanoi(s-1, a, c, b)\n",
    "    print('move', s, 'th disk from',a, 'to', c)\n",
    "    tower_hanoi(s-1, b, a, c)\n",
    "    "
   ]
  },
  {
   "cell_type": "code",
   "execution_count": 7,
   "id": "ceba671e",
   "metadata": {},
   "outputs": [],
   "source": [
    "# Quick sort\n",
    "\n",
    "def partition(a,si,ei):\n",
    "    pivot = a[si]\n",
    "    #find no. of element smalller tyhan pivot\n",
    "    \n",
    "    c=0\n",
    "    for i in range(si,ei+1):\n",
    "        if a[i]<pivot:\n",
    "            c=c+1\n",
    "    a[si+c],a[si]=a[si],a[si+c]\n",
    "    pivot_index = si+c\n",
    "    \n",
    "    i =si\n",
    "    j = ei\n",
    "    \n",
    "    while i<j:\n",
    "        if a[i]<pivot:\n",
    "            i = i+1\n",
    "        elif a[j]>=pivot:\n",
    "            j = j-1\n",
    "        else:\n",
    "            a[i],a[j]=a[j],a[i]\n",
    "            i = i+1\n",
    "            j = j-1\n",
    "    return pivot_index\n",
    "\n",
    "def quick_sort(a,si,ei):\n",
    "    if si>=ei:\n",
    "        return\n",
    "    pivot_index = partition(a,si,ei)\n",
    "    quick_sort(a,si,pivot_index-1)\n",
    "    quick_sort(a,pivot_index+1,ei)\n",
    "    "
   ]
  }
 ],
 "metadata": {
  "kernelspec": {
   "display_name": "Python 3 (ipykernel)",
   "language": "python",
   "name": "python3"
  },
  "language_info": {
   "codemirror_mode": {
    "name": "ipython",
    "version": 3
   },
   "file_extension": ".py",
   "mimetype": "text/x-python",
   "name": "python",
   "nbconvert_exporter": "python",
   "pygments_lexer": "ipython3",
   "version": "3.10.7"
  }
 },
 "nbformat": 4,
 "nbformat_minor": 5
}
